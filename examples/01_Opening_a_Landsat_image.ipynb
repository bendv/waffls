{
 "cells": [
  {
   "cell_type": "markdown",
   "metadata": {},
   "source": [
    "# Opening a Landsat image\n",
    "\n",
    "`waffls` includes several reader classes, including for Landsat Collection-1 and Pre-Collection data. To open a Collection-1 dataset, point `waffls.Landsat` to the untarred image directory:"
   ]
  },
  {
   "cell_type": "code",
   "execution_count": null,
   "metadata": {},
   "outputs": [],
   "source": [
    "%matplotlib inline\n",
    "import waffls\n",
    "print(waffls.__version__)\n",
    "import matplotlib.pyplot as plt"
   ]
  },
  {
   "cell_type": "code",
   "execution_count": null,
   "metadata": {},
   "outputs": [],
   "source": [
    "img = waffls.Landsat('LT050300272011042501T1-SC20190710095708')"
   ]
  },
  {
   "cell_type": "markdown",
   "metadata": {},
   "source": [
    "Various attributes are stored as object attributes:"
   ]
  },
  {
   "cell_type": "code",
   "execution_count": null,
   "metadata": {},
   "outputs": [],
   "source": [
    "print(img.dataset)\n",
    "print(img.date) # Acquisition date\n",
    "print(img.dtype) # data type\n",
    "print(img.height, img.width) # array dimensions"
   ]
  },
  {
   "cell_type": "markdown",
   "metadata": {},
   "source": [
    "...and more. For convenience, a rasterio-style metadata dictionary is also included:"
   ]
  },
  {
   "cell_type": "code",
   "execution_count": null,
   "metadata": {},
   "outputs": [],
   "source": [
    "img.profile"
   ]
  },
  {
   "cell_type": "markdown",
   "metadata": {},
   "source": [
    "By default, the image data is not read into memory."
   ]
  },
  {
   "cell_type": "code",
   "execution_count": null,
   "metadata": {},
   "outputs": [],
   "source": [
    "print(img.bands) # should be `None`"
   ]
  },
  {
   "cell_type": "markdown",
   "metadata": {},
   "source": [
    "Do read the bands into memory, use the `read()` method:"
   ]
  },
  {
   "cell_type": "code",
   "execution_count": null,
   "metadata": {},
   "outputs": [],
   "source": [
    "img.read(verbose = True)\n",
    "print(img.bands) # OrderedDict of Image bands as numpy as arrays"
   ]
  },
  {
   "cell_type": "code",
   "execution_count": null,
   "metadata": {},
   "outputs": [],
   "source": [
    "fig, ax = plt.subplots(2, 3, figsize = [15, 10], sharex = True, sharey = True)\n",
    "\n",
    "ax[0,0].imshow(img.bands['B'])\n",
    "ax[0,1].imshow(img.bands['G'])\n",
    "ax[0,2].imshow(img.bands['R'])\n",
    "ax[1,0].imshow(img.bands['NIR'])\n",
    "ax[1,1].imshow(img.bands['SWIR1'])\n",
    "ax[1,2].imshow(img.bands['SWIR2'])"
   ]
  },
  {
   "cell_type": "markdown",
   "metadata": {},
   "source": [
    "The QA band is read in at the same time as the spectral bands:"
   ]
  },
  {
   "cell_type": "code",
   "execution_count": null,
   "metadata": {},
   "outputs": [],
   "source": [
    "plt.imshow(img.qa)\n",
    "plt.colorbar()"
   ]
  },
  {
   "cell_type": "markdown",
   "metadata": {},
   "source": [
    "To set the QA mask use the `set_mask()` method. Several optional boolean arguments can be set to apply a saturation (`False` by default), cloud (`True` by default), cloud_shadow (`True` by default), snow (`True` by default) and cirrus (`True` by default)."
   ]
  },
  {
   "cell_type": "code",
   "execution_count": null,
   "metadata": {},
   "outputs": [],
   "source": [
    "img.set_mask()\n",
    "plt.imshow(img.mask)"
   ]
  },
  {
   "cell_type": "markdown",
   "metadata": {},
   "source": [
    "Additionally, you can also mask pixels within a specified pixel buffer around the mask by setting buffer to an integer value (`None` by default)."
   ]
  },
  {
   "cell_type": "code",
   "execution_count": null,
   "metadata": {},
   "outputs": [],
   "source": [
    "img.set_mask(buffer = 100)\n",
    "plt.imshow(img.mask)"
   ]
  }
 ],
 "metadata": {
  "kernelspec": {
   "display_name": "Python 3",
   "language": "python",
   "name": "python3"
  },
  "language_info": {
   "codemirror_mode": {
    "name": "ipython",
    "version": 3
   },
   "file_extension": ".py",
   "mimetype": "text/x-python",
   "name": "python",
   "nbconvert_exporter": "python",
   "pygments_lexer": "ipython3",
   "version": "3.6.7"
  }
 },
 "nbformat": 4,
 "nbformat_minor": 2
}
